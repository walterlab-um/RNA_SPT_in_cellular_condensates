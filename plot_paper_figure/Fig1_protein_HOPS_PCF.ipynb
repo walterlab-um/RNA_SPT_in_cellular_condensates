{
 "cells": [
  {
   "cell_type": "code",
   "execution_count": 1,
   "metadata": {},
   "outputs": [],
   "source": [
    "import os\n",
    "import matplotlib.pyplot as plt\n",
    "import numpy as np\n",
    "from scipy.optimize import curve_fit\n",
    "import pandas as pd\n",
    "import seaborn as sns\n",
    "import pickle\n",
    "from rich.progress import track\n",
    "\n",
    "sns.set(color_codes=True, style=\"white\")"
   ]
  },
  {
   "cell_type": "markdown",
   "metadata": {},
   "source": [
    "### Load Data"
   ]
  },
  {
   "cell_type": "code",
   "execution_count": 31,
   "metadata": {},
   "outputs": [],
   "source": [
    "folder_PCF = \"/Volumes/lsa-nwalter/Guoming_Gao_turbo/Walterlab_server/PROCESSED_DATA/RNA-in-HOPS_condensates/paper_figure_plots/PCF-protein\"\n",
    "os.chdir(folder_PCF)\n",
    "p_files = [f for f in os.listdir(\".\") if f.endswith(\".p\")]\n",
    "conditions = [f.split(\"PairCorr-DataDict-pooled-\")[-1][:-2] for f in p_files]\n",
    "conditions_ordered = [\n",
    "    \"eIF4E_2x\",\n",
    "    \"RPS20_2x\",\n",
    "    \"G3BP_2x\",\n",
    "    \"CNOT1_2x\",\n",
    "    \"eIF4E_1x\",\n",
    "    \"RPS20_1x\",\n",
    "    \"G3BP_1x\",\n",
    "    \"CNOT1_1x\",\n",
    "]"
   ]
  },
  {
   "cell_type": "code",
   "execution_count": null,
   "metadata": {},
   "outputs": [],
   "source": []
  },
  {
   "cell_type": "markdown",
   "metadata": {},
   "source": [
    "### Functions"
   ]
  },
  {
   "cell_type": "code",
   "execution_count": 3,
   "metadata": {},
   "outputs": [],
   "source": [
    "def weighted_stats(lst_PCF_per_cell, lst_N_locations):\n",
    "    # create arrays for weighted means, SEMs and STDs\n",
    "    N_condensates = len(lst_N_locations)\n",
    "    N_bins = lst_PCF_per_cell[0].shape[0]\n",
    "    weighted_mean = np.zeros(N_bins)\n",
    "    weighted_sem = np.zeros(N_bins)\n",
    "    weighted_std = np.zeros(N_bins)\n",
    "    weights = np.array(lst_N_locations)\n",
    "\n",
    "    # iterate over the length of a numpy array in the list\n",
    "    for i in range(N_bins):\n",
    "        # extract the i-th element from each array and their respective weight\n",
    "        data_array = np.array([lst_PCF_per_cell[j][i] for j in range(N_condensates)])\n",
    "        # remove nan\n",
    "        mask = np.isnan(data_array) | np.isnan(weights)\n",
    "        data_array = data_array[~mask]\n",
    "        # calculate the weighted mean\n",
    "        weighted_mean[i] = np.average(data_array, weights=weights[~mask])\n",
    "        # calculate the variance\n",
    "        variance = np.average(\n",
    "            (data_array - weighted_mean[i]) ** 2, weights=weights[~mask]\n",
    "        )\n",
    "        # calculate the weighted SEM\n",
    "        weighted_sem[i] = np.sqrt(variance / N_condensates)\n",
    "        # calculate the weighted STD\n",
    "        weighted_std[i] = np.sqrt(variance)\n",
    "\n",
    "    return weighted_mean, weighted_sem, weighted_std\n",
    "\n",
    "\n",
    "def cluster_model(r, A, r0):\n",
    "    # r0 is the characteristic size of clustering\n",
    "    Gr = 1 + A * np.exp(-r / r0)\n",
    "    return Gr\n",
    "\n",
    "\n",
    "def coscos_PCF(r, a1, b1, c1, a2, b2, c2, d):\n",
    "    # a is amplitude\n",
    "    # b is wave number, also called the angular frequency\n",
    "    # c is phase shift\n",
    "    # d is vertical shift or rest position\n",
    "    Gr = a1 * np.cos(b1 * r + c1) + a2 * np.cos(b2 * r + c2) + d\n",
    "    return Gr\n",
    "\n",
    "\n",
    "def red_chi(bins, A, r0, weighted_mean, weighted_std):\n",
    "    # Calculate chi square\n",
    "    Gr_fitted = cluster_model(bins, A, r0)\n",
    "    residuals = weighted_mean - Gr_fitted\n",
    "    variance = weighted_std**2\n",
    "    chi_square = np.sum((residuals**2) / variance)\n",
    "    # Calculate degrees of freedom\n",
    "    dof = len(bins) - 2\n",
    "    # Calculate reduced chi square\n",
    "    reduced_chi_square = chi_square / dof\n",
    "    return reduced_chi_square\n",
    "\n",
    "\n",
    "def bootstrap(bins, lst_PCF_per_cell, lst_N_locations, bs_size=30, bs_rounds=100):\n",
    "    lst_A = []\n",
    "    lst_r0 = []\n",
    "    lst_red_chi2 = []\n",
    "    for i in range(bs_rounds):\n",
    "        idxs = np.random.choice(len(lst_PCF_per_cell), bs_size)\n",
    "        lst_PCF_bs = [lst_PCF_per_cell[idx] for idx in idxs]\n",
    "\n",
    "        idxs = np.random.choice(len(lst_N_locations), bs_size)\n",
    "        lst_N_bs = [lst_N_locations[idx] for idx in idxs]\n",
    "\n",
    "        weighted_mean, _, weighted_std = weighted_stats(lst_PCF_bs, lst_N_bs)\n",
    "\n",
    "        popt, _ = curve_fit(\n",
    "            cluster_model,\n",
    "            bins[1:],\n",
    "            weighted_mean[1:],\n",
    "            bounds=([-2, 0], [2, 2000]),\n",
    "            maxfev=10000,\n",
    "        )\n",
    "        A, r0 = popt\n",
    "        reduced_chi_square = red_chi(\n",
    "            bins[1:], A, r0, weighted_mean[1:], weighted_std[1:]\n",
    "        )\n",
    "\n",
    "        lst_A.append(A)\n",
    "        lst_r0.append(r0)\n",
    "        lst_red_chi2.append(reduced_chi_square)\n",
    "\n",
    "    return lst_A, lst_r0, lst_red_chi2"
   ]
  },
  {
   "cell_type": "markdown",
   "metadata": {},
   "source": [
    "### cross weighted mean + STD"
   ]
  },
  {
   "cell_type": "code",
   "execution_count": 34,
   "metadata": {},
   "outputs": [
    {
     "data": {
      "text/html": [
       "<pre style=\"white-space:pre;overflow-x:auto;line-height:normal;font-family:Menlo,'DejaVu Sans Mono',consolas,'Courier New',monospace\"></pre>\n"
      ],
      "text/plain": [
       "\u001b[?25l"
      ]
     },
     "metadata": {},
     "output_type": "display_data"
    },
    {
     "data": {
      "application/vnd.jupyter.widget-view+json": {
       "model_id": "2581c39b81d84ddd99b170653ba45d2f",
       "version_major": 2,
       "version_minor": 0
      },
      "text/plain": [
       "Output()"
      ]
     },
     "metadata": {},
     "output_type": "display_data"
    },
    {
     "data": {
      "text/html": [
       "<pre style=\"white-space:pre;overflow-x:auto;line-height:normal;font-family:Menlo,'DejaVu Sans Mono',consolas,'Courier New',monospace\">\n",
       "</pre>\n"
      ],
      "text/plain": [
       "\n",
       "\u001b[?25h"
      ]
     },
     "metadata": {},
     "output_type": "display_data"
    }
   ],
   "source": [
    "lst_mean = []\n",
    "lst_sem = []\n",
    "for condition in track(conditions_ordered):\n",
    "    dict_toplot = pickle.load(\n",
    "        open(\"PairCorr-DataDict-pooled-\" + condition + \".p\", \"rb\")\n",
    "    )\n",
    "    nm_per_pxl = dict_toplot[\"nm_per_pxl\"]\n",
    "    r_max_nm = dict_toplot[\"r_max_nm\"]\n",
    "    ringwidth_nm = dict_toplot[\"ringwidth_nm\"]\n",
    "    dr_slidingrings_nm = dict_toplot[\"dr_slidingrings_nm\"]\n",
    "    bins = dict_toplot[\"bins\"]\n",
    "\n",
    "    # Calculate the weighted mean, STD, SEM\n",
    "    lst_PCF_per_cell = dict_toplot[\"lst_cross\"]\n",
    "    lst_N_loc_condensate = dict_toplot[\"lst_N_loc_condensate\"]\n",
    "    lst_N_loc_protein = dict_toplot[\"lst_N_loc_protein\"]\n",
    "    lst_PCF_per_cell_norm = []\n",
    "    lst_N_locations = []\n",
    "    for current_PCF, a, b in zip(\n",
    "        lst_PCF_per_cell, lst_N_loc_condensate, lst_N_loc_protein\n",
    "    ):\n",
    "        if np.mean(current_PCF[-10:]) == 0:\n",
    "            continue\n",
    "        lst_PCF_per_cell_norm.append(current_PCF / np.mean(current_PCF[-10:]))\n",
    "        lst_N_locations.append(a + b)\n",
    "\n",
    "    weighted_mean, weighted_sem, weighted_std = weighted_stats(\n",
    "        lst_PCF_per_cell_norm, lst_N_locations\n",
    "    )\n",
    "    lst_mean.append(weighted_mean[0])\n",
    "    lst_sem.append(weighted_sem[0])\n",
    "\n",
    "    # Plot weighted mean curves + STD\n",
    "    plt.figure(figsize=(4, 3))\n",
    "    plt.axhline(1, c=\"gray\", ls=\"--\")\n",
    "    plt.errorbar(\n",
    "        bins,\n",
    "        weighted_mean,\n",
    "        yerr=weighted_sem,\n",
    "        fmt=\"o\",\n",
    "        color=\"k\",\n",
    "        ecolor=\"k\",\n",
    "        elinewidth=1,\n",
    "        capsize=2,\n",
    "        alpha=0.5,\n",
    "    )\n",
    "    plt.xlim(bins[0], bins[-1])\n",
    "    plt.ylim(0.5, 2.5)\n",
    "    plt.xlabel(\"r, nm\", fontsize=17)\n",
    "    plt.ylabel(r\"G$_{cross}$(r)\", fontsize=17)\n",
    "    plt.gca().spines[:].set_linewidth(2)\n",
    "    plt.gca().tick_params(\n",
    "        axis=\"both\",\n",
    "        which=\"major\",\n",
    "        labelsize=17,\n",
    "        direction=\"in\",\n",
    "        bottom=True,\n",
    "        left=True,\n",
    "        length=5,\n",
    "        width=2,\n",
    "    )\n",
    "\n",
    "    plt.title(\", \".join(condition.split(\"_\")), fontsize=17, weight=\"bold\")\n",
    "    plt.savefig(\n",
    "        \"cross_PCF_\" + condition + \"_weighted_mean_SEM.png\",\n",
    "        format=\"png\",\n",
    "        bbox_inches=\"tight\",\n",
    "        dpi=300,\n",
    "    )\n",
    "    plt.close()"
   ]
  },
  {
   "cell_type": "code",
   "execution_count": 39,
   "metadata": {},
   "outputs": [
    {
     "data": {
      "image/png": "[encoded data removed]",
      "text/plain": [
       "<Figure size 600x300 with 1 Axes>"
      ]
     },
     "metadata": {},
     "output_type": "display_data"
    }
   ],
   "source": [
    "# conditions_ordered = [\n",
    "#     \"eIF4E_2x\",\n",
    "#     \"RPS20_2x\",\n",
    "#     \"G3BP_2x\",\n",
    "#     \"CNOT1_2x\",\n",
    "#     \"eIF4E_1x\",\n",
    "#     \"RPS20_1x\",\n",
    "#     \"G3BP_1x\",\n",
    "#     \"CNOT1_1x\",\n",
    "# ]\n",
    "colors = [\n",
    "    \"#739E87\",  # eIF4E_2x\n",
    "    \"#276E48\",  # RPS20_2x\n",
    "    \"#40DE8A\",  # G3BP_2x\n",
    "    \"#20402F\",  # CNOT1_2x\n",
    "    \"#BACFC4\",  # eIF4E_1x\n",
    "    \"#79D0A2\",  # RPS20_1x\n",
    "    \"#9FEFC4\",  # G3BP_1x\n",
    "    \"#76BA95\",  # CNOT1_1x\n",
    "]\n",
    "plt.figure(figsize=(6, 3))\n",
    "x_pos = np.arange(len(conditions_ordered))\n",
    "# lines for eyes\n",
    "plt.axhline(1, c=\"gray\", ls=\"--\", lw=2)\n",
    "plt.axvline((x_pos[3] + x_pos[4]) / 2, c=\"k\", lw=0.5)\n",
    "# plot\n",
    "for i in range(len(conditions_ordered)):\n",
    "    plt.errorbar(\n",
    "        x_pos[i],\n",
    "        lst_mean[i],\n",
    "        yerr=lst_sem[i],\n",
    "        fmt=\"o\",\n",
    "        capsize=5,\n",
    "        capthick=2,\n",
    "        color=colors[i],\n",
    "    )\n",
    "# other settings\n",
    "plt.ylabel(r\"G$_{cross}$(r < 100 nm)\", fontsize=17)\n",
    "plt.gca().spines[:].set_linewidth(2)\n",
    "plt.gca().tick_params(\n",
    "    axis=\"y\",\n",
    "    which=\"major\",\n",
    "    labelsize=15,\n",
    "    direction=\"in\",\n",
    "    bottom=True,\n",
    "    left=True,\n",
    "    length=5,\n",
    "    width=2,\n",
    ")\n",
    "plt.gca().tick_params(\n",
    "    axis=\"x\",\n",
    "    which=\"major\",\n",
    "    labelsize=15,\n",
    ")\n",
    "plt.xticks(x_pos + 0.2, conditions_ordered, rotation=30, ha=\"right\")\n",
    "plt.savefig(\n",
    "    \"doterrorplot_firstbin_weighted_mean_SEM.png\",\n",
    "    format=\"png\",\n",
    "    bbox_inches=\"tight\",\n",
    "    dpi=300,\n",
    ")"
   ]
  },
  {
   "cell_type": "code",
   "execution_count": 62,
   "metadata": {},
   "outputs": [
    {
     "data": {
      "image/png": "[encoded data removed]",
      "text/plain": [
       "<Figure size 400x400 with 1 Axes>"
      ]
     },
     "metadata": {},
     "output_type": "display_data"
    }
   ],
   "source": [
    "plt.figure(figsize=(4, 4))\n",
    "x_pos = np.arange(len(conditions_ordered[:4]))\n",
    "# lines for eyes\n",
    "# plt.axhline(1, c=\"gray\", ls=\"--\", lw=2)\n",
    "# plot\n",
    "for i in range(len(conditions_ordered[:4])):\n",
    "    plt.errorbar(\n",
    "        x_pos[i],\n",
    "        lst_mean[i],\n",
    "        yerr=lst_sem[i],\n",
    "        fmt=\"o\",\n",
    "        ms=15,\n",
    "        capsize=7,\n",
    "        capthick=2,\n",
    "        color=colors[i],\n",
    "    )\n",
    "# other settings\n",
    "plt.gca().spines[:].set_linewidth(2)\n",
    "plt.gca().tick_params(\n",
    "    axis=\"y\",\n",
    "    which=\"major\",\n",
    "    labelsize=25,\n",
    "    direction=\"in\",\n",
    "    bottom=True,\n",
    "    left=True,\n",
    "    length=10,\n",
    "    width=4,\n",
    ")\n",
    "plt.xlim(x_pos[0] - 0.7, x_pos[-1] + 0.7)\n",
    "plt.xticks([])\n",
    "plt.yticks([1.1, 1.2])\n",
    "plt.savefig(\n",
    "    \"inset_doterrorplot_firstbin_weighted_mean_SEM.png\",\n",
    "    format=\"png\",\n",
    "    bbox_inches=\"tight\",\n",
    "    dpi=300,\n",
    ")"
   ]
  },
  {
   "cell_type": "code",
   "execution_count": null,
   "metadata": {},
   "outputs": [],
   "source": []
  }
 ],
 "metadata": {
  "kernelspec": {
   "display_name": "spt",
   "language": "python",
   "name": "python3"
  },
  "language_info": {
   "codemirror_mode": {
    "name": "ipython",
    "version": 3
   },
   "file_extension": ".py",
   "mimetype": "text/x-python",
   "name": "python",
   "nbconvert_exporter": "python",
   "pygments_lexer": "ipython3",
   "version": "3.9.16"
  }
 },
 "nbformat": 4,
 "nbformat_minor": 2
}
