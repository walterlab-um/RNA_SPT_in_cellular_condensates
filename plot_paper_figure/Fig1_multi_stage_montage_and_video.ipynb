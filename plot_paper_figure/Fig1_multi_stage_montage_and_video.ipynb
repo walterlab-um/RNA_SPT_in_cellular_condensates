{
 "cells": [
  {
   "cell_type": "code",
   "execution_count": 17,
   "id": "194875db-8a0c-49f1-a0c3-d10432deba23",
   "metadata": {
    "tags": []
   },
   "outputs": [],
   "source": [
    "import os\n",
    "\n",
    "import matplotlib.animation as animation\n",
    "import matplotlib.colors as clr\n",
    "import matplotlib.pyplot as plt\n",
    "import matplotlib.cm as cm\n",
    "import numpy as np\n",
    "import random\n",
    "import pandas as pd\n",
    "from tifffile import imread\n",
    "import ffmpeg\n",
    "from rich.progress import track\n",
    "\n",
    "pd.options.mode.chained_assignment = None  # default='warn'"
   ]
  },
  {
   "cell_type": "markdown",
   "id": "22d485d1-c89b-4854-9595-14cf5e62eff2",
   "metadata": {},
   "source": [
    "### Parameters and path"
   ]
  },
  {
   "cell_type": "code",
   "execution_count": 56,
   "id": "82178fca-05d9-48ec-b517-4bfe124433d1",
   "metadata": {
    "tags": []
   },
   "outputs": [],
   "source": [
    "um_per_pixel = 0.117\n",
    "s_per_frame = 0.1\n",
    "folder_save = \"/Volumes/lsa-nwalter/Guoming_Gao_turbo/Walterlab_server/PROCESSED_DATA/RNA-in-HOPS_condensates/paper_figure_plots/Fig1_example_imgs\"\n",
    "\n",
    "os.chdir(folder_save)\n",
    "video = imread(\"Merged-4-cropped.tif\")\n",
    "df_RNA = pd.read_csv(\"tracks.csv\")\n",
    "df_condensate = pd.read_csv(\"condensates_AIO-Merged-4-cropped-condensate.csv\")\n",
    "\n",
    "plow = 0.5  # imshow intensity percentile\n",
    "phigh = 90\n",
    "scalebar_color = \"white\"\n",
    "\n",
    "cmap_color_start = \"black\"\n",
    "cmap_color_end = \"#6495ED\"\n",
    "cmap_name = \"dark2blue\"\n",
    "cmap_blue = clr.LinearSegmentedColormap.from_list(\n",
    "    cmap_name,\n",
    "    [cmap_color_start, cmap_color_end],\n",
    ")\n",
    "\n",
    "cmap_color_start = (0.753, 0.22, 0.188, 0)\n",
    "cmap_color_end = (0.753, 0.22, 0.188, 1)\n",
    "cmap_name = \"transparent2red\"\n",
    "cmap_red = clr.LinearSegmentedColormap.from_list(\n",
    "    cmap_name,\n",
    "    [cmap_color_start, cmap_color_end],\n",
    ")\n",
    "\n",
    "scalebar_length_um = 1\n",
    "scalebar_length_pxl = scalebar_length_um / um_per_pixel\n",
    "scale_bar_offset = 1\n",
    "\n",
    "cmap_track = cm.get_cmap(\"magma\")\n",
    "# random_numbers = [random.random() for _ in range(df_RNA[\"trackID\"].unique().shape[0])]\n",
    "random_numbers = [\n",
    "    0.04417639224249814,\n",
    "    0.7966422150759658,\n",
    "    0.12862218701740713,\n",
    "    0.8344488278878667,\n",
    "    0.017867915104638254,\n",
    "    0.5847620343771311,\n",
    "    0.8400262836835699,\n",
    "    0.1374874852347936,\n",
    "    0.7674218070558931,\n",
    "    0.0026264426394451146,\n",
    "    0.7049433653852305,\n",
    "    0.15518520409685355,\n",
    "    0.7514361098084696,\n",
    "    0.6454051933472383,\n",
    "    0.6696084529649057,\n",
    "    0.4670105496591723,\n",
    "    0.44595336463439694,\n",
    "    0.6346802704177533,\n",
    "    0.9160408235575344,\n",
    "]\n",
    "track_colors = [cmap_track(i) for i in random_numbers]"
   ]
  },
  {
   "cell_type": "code",
   "execution_count": 3,
   "id": "c7d80e98",
   "metadata": {},
   "outputs": [],
   "source": [
    "def list_like_string_to_xyarr(list_like_string):\n",
    "    # example list_like_string structure of polygon coordinates: '[[196, 672], [196, 673], [197, 673], [198, 673], [199, 673], [199, 672], [198, 672], [197, 672]]'\n",
    "    list_of_xy_string = list_like_string[2:-2].split(\"], [\")\n",
    "\n",
    "    lst_x = []\n",
    "    lst_y = []\n",
    "    for xy_string in list_of_xy_string:\n",
    "        x, y = xy_string.split(\", \")\n",
    "        lst_x.append(float(x))\n",
    "        lst_y.append(float(y))\n",
    "\n",
    "    return np.array(lst_x), np.array(lst_y)"
   ]
  },
  {
   "cell_type": "markdown",
   "id": "4482fc16-be41-4d79-856a-930732cb15f0",
   "metadata": {},
   "source": [
    "### All Frames with orange track"
   ]
  },
  {
   "cell_type": "code",
   "execution_count": 61,
   "id": "7d85d81c-81e9-4146-b634-e261ae6b1cdc",
   "metadata": {
    "tags": []
   },
   "outputs": [
    {
     "data": {
      "text/html": [
       "<pre style=\"white-space:pre;overflow-x:auto;line-height:normal;font-family:Menlo,'DejaVu Sans Mono',consolas,'Courier New',monospace\"></pre>\n"
      ],
      "text/plain": [
       "\u001b[?25l"
      ]
     },
     "metadata": {},
     "output_type": "display_data"
    },
    {
     "data": {
      "application/vnd.jupyter.widget-view+json": {
       "model_id": "83bf349e7a714ad3a9d0656b3f973527",
       "version_major": 2,
       "version_minor": 0
      },
      "text/plain": [
       "Output()"
      ]
     },
     "metadata": {},
     "output_type": "display_data"
    },
    {
     "data": {
      "text/html": [
       "<pre style=\"white-space:pre;overflow-x:auto;line-height:normal;font-family:Menlo,'DejaVu Sans Mono',consolas,'Courier New',monospace\">\n",
       "</pre>\n"
      ],
      "text/plain": [
       "\n",
       "\u001b[?25h"
      ]
     },
     "metadata": {},
     "output_type": "display_data"
    }
   ],
   "source": [
    "for frame in track(np.linspace(1, 200, 10, dtype=int)):\n",
    "    img_blue = video[frame - 1, 1, :, :]\n",
    "    img_red = video[frame - 1, 0, :, :]\n",
    "    fig, ax = plt.subplots(1, 1)\n",
    "    plt.imshow(\n",
    "        img_blue,\n",
    "        cmap=cmap_blue,\n",
    "        vmin=500,\n",
    "        vmax=700,\n",
    "    )\n",
    "    plt.imshow(\n",
    "        img_red,\n",
    "        cmap=cmap_red,\n",
    "        vmin=0,\n",
    "        vmax=50,\n",
    "    )\n",
    "    # Add contours\n",
    "    contours = df_condensate[df_condensate[\"frame\"] == frame - 1][\n",
    "        \"contour_coord\"\n",
    "    ].to_list()\n",
    "    df_condensate[df_condensate[\"frame\"] == frame - 1]\n",
    "    for cnt in contours:\n",
    "        x, y = list_like_string_to_xyarr(cnt)\n",
    "        plt.plot(x, y, lw=2, c=\"snow\")\n",
    "        # still the last closing line will be missing, get it below\n",
    "        xlast = [x[-1], x[0]]\n",
    "        ylast = [y[-1], y[0]]\n",
    "        plt.plot(xlast, ylast, c=\"snow\", lw=2)\n",
    "    # Add current circle, except for gaps\n",
    "    all_avaliable_frames = set(df_RNA[\"t\"].unique())\n",
    "    if frame - 1 in all_avaliable_frames:\n",
    "        current_x = df_RNA[df_RNA[\"t\"] == frame - 1][\"x\"].to_numpy()\n",
    "        current_y = df_RNA[df_RNA[\"t\"] == frame - 1][\"y\"].to_numpy()\n",
    "        plt.scatter(\n",
    "            current_x,\n",
    "            current_y,\n",
    "            marker=\"o\",\n",
    "            facecolors=\"none\",\n",
    "            edgecolors=\"white\",\n",
    "            s=500,\n",
    "            lw=2,\n",
    "        )\n",
    "    # Add track\n",
    "    # track_ids = df_RNA[\"trackID\"].unique()\n",
    "    # for trackid in track_ids:\n",
    "    #     full_track = df_RNA[df_RNA[\"trackID\"] == trackid]\n",
    "    #     track_till_now = full_track[full_track[\"t\"] <= frame - 1]\n",
    "    #     t_plot = track_till_now[\"t\"].to_numpy(float)\n",
    "    #     x_plot = track_till_now[\"x\"].to_numpy(float)\n",
    "    #     y_plot = track_till_now[\"y\"].to_numpy(float)\n",
    "    #     for i in range(len(t_plot) - 1):\n",
    "    #         plt.plot(\n",
    "    #             x_plot[i : i + 2],\n",
    "    #             y_plot[i : i + 2],\n",
    "    #             \"-o\",\n",
    "    #             color=\"white\",\n",
    "    #             lw=2,\n",
    "    #             ms=3,\n",
    "    #         )\n",
    "    plt.text(0, 0, str(round(frame * 0.1, 2)) + \" s\", fontsize=40, color=\"white\")\n",
    "    plt.xlim(0, img_blue.shape[0])\n",
    "    plt.ylim(0, img_blue.shape[1])\n",
    "    plt.gca().invert_yaxis()\n",
    "    plt.tight_layout()\n",
    "    plt.axis(\"scaled\")\n",
    "    plt.axis(\"off\")\n",
    "\n",
    "    plt.savefig(\n",
    "        \"img_\" + str(frame) + \".png\",\n",
    "        format=\"png\",\n",
    "        bbox_inches=\"tight\",\n",
    "        dpi=300,\n",
    "        transparent=True,\n",
    "    )\n",
    "    plt.close()"
   ]
  },
  {
   "cell_type": "code",
   "execution_count": 62,
   "id": "593ada4d",
   "metadata": {},
   "outputs": [
    {
     "data": {
      "text/html": [
       "<pre style=\"white-space:pre;overflow-x:auto;line-height:normal;font-family:Menlo,'DejaVu Sans Mono',consolas,'Courier New',monospace\"></pre>\n"
      ],
      "text/plain": [
       "\u001b[?25l"
      ]
     },
     "metadata": {},
     "output_type": "display_data"
    },
    {
     "data": {
      "application/vnd.jupyter.widget-view+json": {
       "model_id": "024361f6ef484d44a974896f6b8bbfab",
       "version_major": 2,
       "version_minor": 0
      },
      "text/plain": [
       "Output()"
      ]
     },
     "metadata": {},
     "output_type": "display_data"
    },
    {
     "data": {
      "text/html": [
       "<pre style=\"white-space:pre;overflow-x:auto;line-height:normal;font-family:Menlo,'DejaVu Sans Mono',consolas,'Courier New',monospace\">\n",
       "</pre>\n"
      ],
      "text/plain": [
       "\n",
       "\u001b[?25h"
      ]
     },
     "metadata": {},
     "output_type": "display_data"
    }
   ],
   "source": [
    "for frame in track(np.linspace(1, 200, 10, dtype=int)):\n",
    "    img_blue = video[frame - 1, 1, :, :]\n",
    "    img_red = video[frame - 1, 0, :, :]\n",
    "    fig, ax = plt.subplots(1, 1)\n",
    "    # Add contours\n",
    "    contours = df_condensate[df_condensate[\"frame\"] == frame - 1][\n",
    "        \"contour_coord\"\n",
    "    ].to_list()\n",
    "    df_condensate[df_condensate[\"frame\"] == frame - 1]\n",
    "    for cnt in contours:\n",
    "        x, y = list_like_string_to_xyarr(cnt)\n",
    "        plt.plot(x, y, lw=2, c=\"#245696\")\n",
    "        # still the last closing line will be missing, get it below\n",
    "        xlast = [x[-1], x[0]]\n",
    "        ylast = [y[-1], y[0]]\n",
    "        plt.plot(xlast, ylast, c=\"#245696\", lw=2)\n",
    "    # Add current circle, except for gaps\n",
    "    all_avaliable_frames = set(df_RNA[\"t\"].unique())\n",
    "    if frame - 1 in all_avaliable_frames:\n",
    "        current_x = df_RNA[df_RNA[\"t\"] == frame - 1][\"x\"].to_numpy()\n",
    "        current_y = df_RNA[df_RNA[\"t\"] == frame - 1][\"y\"].to_numpy()\n",
    "        plt.scatter(\n",
    "            current_x,\n",
    "            current_y,\n",
    "            marker=\"o\",\n",
    "            facecolors=\"none\",\n",
    "            edgecolors=\"#c51e3a\",\n",
    "            s=500,\n",
    "            lw=2,\n",
    "        )\n",
    "    # Add track\n",
    "    track_ids = df_RNA[\"trackID\"].unique()\n",
    "    for trackid, c in zip(track_ids, track_colors):\n",
    "        full_track = df_RNA[df_RNA[\"trackID\"] == trackid]\n",
    "        track_till_now = full_track[full_track[\"t\"] <= frame - 1]\n",
    "        t_plot = track_till_now[\"t\"].to_numpy(float)\n",
    "        x_plot = track_till_now[\"x\"].to_numpy(float)\n",
    "        y_plot = track_till_now[\"y\"].to_numpy(float)\n",
    "        for i in range(len(t_plot) - 1):\n",
    "            plt.plot(\n",
    "                x_plot[i : i + 2],\n",
    "                y_plot[i : i + 2],\n",
    "                \"-o\",\n",
    "                color=c,\n",
    "                lw=2,\n",
    "                ms=3,\n",
    "            )\n",
    "    plt.text(0, 0, str(round(frame * 0.1, 2)) + \" s\", fontsize=40)\n",
    "    plt.xlim(0, img_blue.shape[0])\n",
    "    plt.ylim(0, img_blue.shape[1])\n",
    "    plt.gca().invert_yaxis()\n",
    "    plt.tight_layout()\n",
    "    plt.axis(\"scaled\")\n",
    "    plt.axis(\"off\")\n",
    "\n",
    "    plt.savefig(\n",
    "        \"track_\" + str(frame) + \".png\",\n",
    "        format=\"png\",\n",
    "        bbox_inches=\"tight\",\n",
    "        dpi=300,\n",
    "        transparent=True,\n",
    "    )\n",
    "    plt.close()"
   ]
  },
  {
   "cell_type": "markdown",
   "id": "614362a4",
   "metadata": {},
   "source": [
    "### test"
   ]
  },
  {
   "cell_type": "code",
   "execution_count": 60,
   "id": "dcfd61d4",
   "metadata": {},
   "outputs": [
    {
     "data": {
      "text/plain": [
       "(-1.8, 37.8, 37.7, 0.2999999999999998)"
      ]
     },
     "execution_count": 60,
     "metadata": {},
     "output_type": "execute_result"
    },
    {
     "data": {
      "image/png": "[encoded data removed]",
      "text/plain": [
       "<Figure size 640x480 with 1 Axes>"
      ]
     },
     "metadata": {},
     "output_type": "display_data"
    }
   ],
   "source": [
    "frame = 200\n",
    "# random_numbers = [random.random() for _ in range(df_RNA[\"trackID\"].unique().shape[0])]\n",
    "track_colors = [cmap_track(i) for i in random_numbers]\n",
    "img_blue = video[frame - 1, 1, :, :]\n",
    "img_red = video[frame - 1, 0, :, :]\n",
    "fig, ax = plt.subplots(1, 1)\n",
    "# Add contours\n",
    "contours = df_condensate[df_condensate[\"frame\"] == frame - 1][\"contour_coord\"].to_list()\n",
    "df_condensate[df_condensate[\"frame\"] == frame - 1]\n",
    "for cnt in contours:\n",
    "    x, y = list_like_string_to_xyarr(cnt)\n",
    "    plt.plot(x, y, lw=2, c=\"#245696\")\n",
    "    # still the last closing line will be missing, get it below\n",
    "    xlast = [x[-1], x[0]]\n",
    "    ylast = [y[-1], y[0]]\n",
    "    plt.plot(xlast, ylast, c=\"#245696\", lw=2)\n",
    "# Add current circle, except for gaps\n",
    "all_avaliable_frames = set(df_RNA[\"t\"].unique())\n",
    "if frame - 1 in all_avaliable_frames:\n",
    "    current_x = df_RNA[df_RNA[\"t\"] == frame - 1][\"x\"].to_numpy()\n",
    "    current_y = df_RNA[df_RNA[\"t\"] == frame - 1][\"y\"].to_numpy()\n",
    "    plt.scatter(\n",
    "        current_x,\n",
    "        current_y,\n",
    "        marker=\"o\",\n",
    "        facecolors=\"none\",\n",
    "        edgecolors=\"#c51e3a\",\n",
    "        s=500,\n",
    "        lw=2,\n",
    "    )\n",
    "# Add track\n",
    "track_ids = df_RNA[\"trackID\"].unique()\n",
    "for trackid, c in zip(track_ids, track_colors):\n",
    "    full_track = df_RNA[df_RNA[\"trackID\"] == trackid]\n",
    "    track_till_now = full_track[full_track[\"t\"] <= frame - 1]\n",
    "    t_plot = track_till_now[\"t\"].to_numpy(float)\n",
    "    x_plot = track_till_now[\"x\"].to_numpy(float)\n",
    "    y_plot = track_till_now[\"y\"].to_numpy(float)\n",
    "    for i in range(len(t_plot) - 1):\n",
    "        plt.plot(\n",
    "            x_plot[i : i + 2],\n",
    "            y_plot[i : i + 2],\n",
    "            \"-o\",\n",
    "            color=c,\n",
    "            lw=2,\n",
    "            ms=3,\n",
    "        )\n",
    "\n",
    "plt.text(0, 0, str(round(frame * 0.1, 2)) + \" s\", fontsize=40)\n",
    "plt.xlim(0, img_blue.shape[0])\n",
    "plt.ylim(0, img_blue.shape[1])\n",
    "plt.gca().invert_yaxis()\n",
    "plt.tight_layout()\n",
    "plt.axis(\"scaled\")\n",
    "plt.axis(\"off\")"
   ]
  },
  {
   "cell_type": "markdown",
   "id": "8c4741ef",
   "metadata": {},
   "source": [
    "### All frames with scale bar to video"
   ]
  },
  {
   "cell_type": "code",
   "execution_count": null,
   "id": "237c4e48",
   "metadata": {},
   "outputs": [],
   "source": [
    "from matplotlib.animation import FuncAnimation\n",
    "\n",
    "fig, ax = plt.subplots(1, 1)\n",
    "all_avaliable_frames = set(df[\"t\"].unique())\n",
    "\n",
    "cmap_color_end = \"#00274C\"\n",
    "cmap_color_start = \"#FFCB05\"\n",
    "cmap_name = \"maize2blue\"\n",
    "N = track.shape[0]\n",
    "cmap = clr.LinearSegmentedColormap.from_list(\n",
    "    cmap_name, [cmap_color_start, cmap_color_end], N=N\n",
    ")\n",
    "\n",
    "\n",
    "def animate(frame):\n",
    "    ax.clear()\n",
    "    img_blue = video[frame - 1, 1, :, :]\n",
    "    img_red = video[frame - 1, 0, :, :]\n",
    "    plt.imshow(\n",
    "        img_blue,\n",
    "        cmap=cmap_blue,\n",
    "        vmin=3100,\n",
    "        vmax=5600,\n",
    "    )\n",
    "    plt.imshow(\n",
    "        img_red,\n",
    "        cmap=cmap_red,\n",
    "        vmin=2,\n",
    "        vmax=6,\n",
    "    )\n",
    "    # Add current circle, except for gaps\n",
    "    if frame - 1 in all_avaliable_frames:\n",
    "        current_x = df[df[\"t\"] == frame - 1][\"x\"].squeeze()\n",
    "        current_y = df[df[\"t\"] == frame - 1][\"y\"].squeeze()\n",
    "        c = plt.Circle(\n",
    "            (current_x, current_y),\n",
    "            1.3,\n",
    "            color=\"white\",\n",
    "            fill=False,\n",
    "            lw=3,\n",
    "        )\n",
    "        ax.add_patch(c)\n",
    "    # Add track\n",
    "    track = df[df[\"t\"] <= frame - 1]\n",
    "    t_plot = track[\"t\"].to_numpy(float)\n",
    "    x_plot = track[\"x\"].to_numpy(float)\n",
    "    y_plot = track[\"y\"].to_numpy(float)\n",
    "    for i in range(len(t_plot) - 1):\n",
    "        plt.plot(\n",
    "            x_plot[i : i + 2],\n",
    "            y_plot[i : i + 2],\n",
    "            \"-o\",\n",
    "            color=cmap(i / N),\n",
    "            lw=2,\n",
    "        )\n",
    "    # plt.plot(\n",
    "    #     track[\"x\"],\n",
    "    #     track[\"y\"],\n",
    "    #     color=\"white\",\n",
    "    #     lw=2,\n",
    "    #     ls=\"-\",\n",
    "    #     marker=\"o\",\n",
    "    # )\n",
    "    # scale bar\n",
    "    scale_bar_offset = 0\n",
    "    scalebar_length_um = 1\n",
    "    base_x = 11.1\n",
    "    base_y = 6.7\n",
    "    scalebar_length_pxl = scalebar_length_um / um_per_pixel\n",
    "    plt.plot(\n",
    "        [\n",
    "            base_x + scale_bar_offset,\n",
    "            base_x + scale_bar_offset + scalebar_length_pxl,\n",
    "        ],\n",
    "        [base_y + scale_bar_offset, base_y + scale_bar_offset],\n",
    "        \"-\",\n",
    "        color=\"white\",\n",
    "        lw=5,\n",
    "    )\n",
    "    plt.xlim(0, img_blue.shape[0])\n",
    "    plt.ylim(0, img_blue.shape[1])\n",
    "    ax.invert_yaxis()\n",
    "    plt.tight_layout()\n",
    "    plt.axis(\"scaled\")\n",
    "    plt.axis(\"off\")\n",
    "\n",
    "\n",
    "ani = FuncAnimation(fig, animate, frames=150, interval=20, repeat=False)\n",
    "writer = animation.FFMpegWriter(fps=25)  # 25 Hz, 0.5x playback (original:50Hz)\n",
    "ani.save(\"movie_0point5xplayback.mp4\", writer=writer)"
   ]
  },
  {
   "cell_type": "code",
   "execution_count": null,
   "id": "b671ab5d",
   "metadata": {},
   "outputs": [],
   "source": []
  }
 ],
 "metadata": {
  "kernelspec": {
   "display_name": "Python 3 (ipykernel)",
   "language": "python",
   "name": "python3"
  },
  "language_info": {
   "codemirror_mode": {
    "name": "ipython",
    "version": 3
   },
   "file_extension": ".py",
   "mimetype": "text/x-python",
   "name": "python",
   "nbconvert_exporter": "python",
   "pygments_lexer": "ipython3",
   "version": "3.9.16"
  }
 },
 "nbformat": 4,
 "nbformat_minor": 5
}
