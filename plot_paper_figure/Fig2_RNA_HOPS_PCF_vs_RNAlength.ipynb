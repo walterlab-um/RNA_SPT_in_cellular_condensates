{
 "cells": [
  {
   "cell_type": "code",
   "execution_count": 1,
   "metadata": {},
   "outputs": [],
   "source": [
    "import os\n",
    "import matplotlib.pyplot as plt\n",
    "import numpy as np\n",
    "from scipy.optimize import curve_fit\n",
    "import pandas as pd\n",
    "import seaborn as sns\n",
    "import pickle\n",
    "from rich.progress import track\n",
    "\n",
    "sns.set(color_codes=True, style=\"white\")"
   ]
  },
  {
   "cell_type": "markdown",
   "metadata": {},
   "source": [
    "### Load Data"
   ]
  },
  {
   "cell_type": "code",
   "execution_count": 2,
   "metadata": {},
   "outputs": [],
   "source": [
    "folder_PCF = \"/Volumes/lsa-nwalter/Guoming_Gao_turbo/Walterlab_server/PROCESSED_DATA/RNA-in-HOPS_condensates/paper_figure_plots/PCF-RNA\"\n",
    "os.chdir(folder_PCF)\n",
    "p_files = [f for f in os.listdir(\".\") if f.endswith(\".p\")]\n",
    "conditions = [f.split(\"PairCorr-DataDict-pooled-\")[-1][:-2] for f in p_files]\n",
    "conditions_ordered = [\n",
    "    \"FL_2x\",\n",
    "    \"ActB_2x\",\n",
    "    \"GAPDH_2x\",\n",
    "    \"PB1_SPEN_2x\",\n",
    "    \"PB2_CXCR2_2x\",\n",
    "    \"THOR_2x\",\n",
    "    # \"THORdel_2x\",\n",
    "    \"SG1_AHNAK_2x\",\n",
    "    \"SG2_DYNC1H1_2x\",\n",
    "    \"SG3_NORAD_2x\",\n",
    "    \"ActB_1x\",\n",
    "    \"GAPDH_1x\",\n",
    "    \"THOR_1x\",\n",
    "]\n",
    "colors = [\n",
    "    \"#BD2433\",  # FL\n",
    "    \"#9C1A27\",  # ActB\n",
    "    \"#EB074B\",  # GAPDH\n",
    "    \"#738DF5\",  # PB1\n",
    "    \"#4C7AB5\",  # PB2\n",
    "    \"#0F183D\",  # THOR\n",
    "    # \"#245696\",  # THORdel\n",
    "    \"#FF8C00\",  # SG1\n",
    "    \"#FF7538\",  # SG2\n",
    "    \"#E25822\",  # SG3\n",
    "    \"#708090\",  # ActB, 1x\n",
    "    \"#8C92AC\",  # GAPDH, 1x\n",
    "    \"#90A4AE\",  # THOR, 1x\n",
    "]\n",
    "rna_length_kb = [\n",
    "    1.7,  # FL\n",
    "    1.8,  # ActB\n",
    "    1.3,  # GAPDH\n",
    "    12.4,  # PB1\n",
    "    2.7,  # PB2\n",
    "    0.6,  # THOR\n",
    "    # \"#245696\",  # THORdel\n",
    "    17.5,  # SG1\n",
    "    19.9,  # SG2\n",
    "    5.3,  # SG3\n",
    "]"
   ]
  },
  {
   "cell_type": "markdown",
   "metadata": {},
   "source": [
    "### Functions"
   ]
  },
  {
   "cell_type": "code",
   "execution_count": 3,
   "metadata": {},
   "outputs": [],
   "source": [
    "def weighted_stats(lst_PCF_per_cell, lst_N_locations):\n",
    "    # create arrays for weighted means, SEMs and STDs\n",
    "    N_condensates = len(lst_N_locations)\n",
    "    N_bins = lst_PCF_per_cell[0].shape[0]\n",
    "    weighted_mean = np.zeros(N_bins)\n",
    "    weighted_sem = np.zeros(N_bins)\n",
    "    weighted_std = np.zeros(N_bins)\n",
    "    weights = np.array(lst_N_locations)\n",
    "\n",
    "    # iterate over the length of a numpy array in the list\n",
    "    for i in range(N_bins):\n",
    "        # extract the i-th element from each array and their respective weight\n",
    "        data_array = np.array([lst_PCF_per_cell[j][i] for j in range(N_condensates)])\n",
    "        # remove nan\n",
    "        mask = np.isnan(data_array) | np.isnan(weights)\n",
    "        data_array = data_array[~mask]\n",
    "        # calculate the weighted mean\n",
    "        weighted_mean[i] = np.average(data_array, weights=weights[~mask])\n",
    "        # calculate the variance\n",
    "        variance = np.average(\n",
    "            (data_array - weighted_mean[i]) ** 2, weights=weights[~mask]\n",
    "        )\n",
    "        # calculate the weighted SEM\n",
    "        weighted_sem[i] = np.sqrt(variance / N_condensates)\n",
    "        # calculate the weighted STD\n",
    "        weighted_std[i] = np.sqrt(variance)\n",
    "\n",
    "    return weighted_mean, weighted_sem, weighted_std\n",
    "\n",
    "\n",
    "def cluster_model(r, A, r0):\n",
    "    # r0 is the characteristic size of clustering\n",
    "    Gr = 1 + A * np.exp(-r / r0)\n",
    "    return Gr\n",
    "\n",
    "\n",
    "def coscos_PCF(r, a1, b1, c1, a2, b2, c2, d):\n",
    "    # a is amplitude\n",
    "    # b is wave number, also called the angular frequency\n",
    "    # c is phase shift\n",
    "    # d is vertical shift or rest position\n",
    "    Gr = a1 * np.cos(b1 * r + c1) + a2 * np.cos(b2 * r + c2) + d\n",
    "    return Gr\n",
    "\n",
    "\n",
    "def red_chi(bins, A, r0, weighted_mean, weighted_std):\n",
    "    # Calculate chi square\n",
    "    Gr_fitted = cluster_model(bins, A, r0)\n",
    "    residuals = weighted_mean - Gr_fitted\n",
    "    variance = weighted_std**2\n",
    "    chi_square = np.sum((residuals**2) / variance)\n",
    "    # Calculate degrees of freedom\n",
    "    dof = len(bins) - 2\n",
    "    # Calculate reduced chi square\n",
    "    reduced_chi_square = chi_square / dof\n",
    "    return reduced_chi_square\n",
    "\n",
    "\n",
    "def bootstrap(bins, lst_PCF_per_cell, lst_N_locations, bs_size=30, bs_rounds=100):\n",
    "    lst_A = []\n",
    "    lst_r0 = []\n",
    "    lst_red_chi2 = []\n",
    "    for i in range(bs_rounds):\n",
    "        idxs = np.random.choice(len(lst_PCF_per_cell), bs_size)\n",
    "        lst_PCF_bs = [lst_PCF_per_cell[idx] for idx in idxs]\n",
    "\n",
    "        idxs = np.random.choice(len(lst_N_locations), bs_size)\n",
    "        lst_N_bs = [lst_N_locations[idx] for idx in idxs]\n",
    "\n",
    "        weighted_mean, _, weighted_std = weighted_stats(lst_PCF_bs, lst_N_bs)\n",
    "\n",
    "        popt, _ = curve_fit(\n",
    "            cluster_model,\n",
    "            bins[1:],\n",
    "            weighted_mean[1:],\n",
    "            bounds=([-2, 0], [2, 2000]),\n",
    "            maxfev=10000,\n",
    "        )\n",
    "        A, r0 = popt\n",
    "        reduced_chi_square = red_chi(\n",
    "            bins[1:], A, r0, weighted_mean[1:], weighted_std[1:]\n",
    "        )\n",
    "\n",
    "        lst_A.append(A)\n",
    "        lst_r0.append(r0)\n",
    "        lst_red_chi2.append(reduced_chi_square)\n",
    "\n",
    "    return lst_A, lst_r0, lst_red_chi2"
   ]
  },
  {
   "cell_type": "markdown",
   "metadata": {},
   "source": [
    "### cross weighted mean + STD"
   ]
  },
  {
   "cell_type": "code",
   "execution_count": 4,
   "metadata": {},
   "outputs": [
    {
     "data": {
      "text/html": [
       "<pre style=\"white-space:pre;overflow-x:auto;line-height:normal;font-family:Menlo,'DejaVu Sans Mono',consolas,'Courier New',monospace\"></pre>\n"
      ],
      "text/plain": [
       "\u001b[?25l"
      ]
     },
     "metadata": {},
     "output_type": "display_data"
    },
    {
     "data": {
      "application/vnd.jupyter.widget-view+json": {
       "model_id": "5d89c28f779b40e2940c6978f4fa2788",
       "version_major": 2,
       "version_minor": 0
      },
      "text/plain": [
       "Output()"
      ]
     },
     "metadata": {},
     "output_type": "display_data"
    },
    {
     "data": {
      "text/html": [
       "<pre style=\"white-space:pre;overflow-x:auto;line-height:normal;font-family:Menlo,'DejaVu Sans Mono',consolas,'Courier New',monospace\">\n",
       "</pre>\n"
      ],
      "text/plain": [
       "\n",
       "\u001b[?25h"
      ]
     },
     "metadata": {},
     "output_type": "display_data"
    }
   ],
   "source": [
    "lst_mean = []\n",
    "lst_sem = []\n",
    "for i in track(range(len(conditions_ordered))):\n",
    "    condition = conditions_ordered[i]\n",
    "    dict_toplot = pickle.load(\n",
    "        open(\"PairCorr-DataDict-pooled-\" + condition + \".p\", \"rb\")\n",
    "    )\n",
    "    nm_per_pxl = dict_toplot[\"nm_per_pxl\"]\n",
    "    r_max_nm = dict_toplot[\"r_max_nm\"]\n",
    "    ringwidth_nm = dict_toplot[\"ringwidth_nm\"]\n",
    "    dr_slidingrings_nm = dict_toplot[\"dr_slidingrings_nm\"]\n",
    "    bins = dict_toplot[\"bins\"]\n",
    "\n",
    "    # Calculate the weighted mean, STD, SEM\n",
    "    lst_PCF_per_cell = dict_toplot[\"lst_cross\"]\n",
    "    lst_N_loc_condensate = dict_toplot[\"lst_N_loc_condensate\"]\n",
    "    lst_N_loc_RNA = dict_toplot[\"lst_N_loc_RNA\"]\n",
    "    lst_PCF_per_cell_norm = []\n",
    "    lst_N_locations = []\n",
    "    for current_PCF, a, b in zip(lst_PCF_per_cell, lst_N_loc_condensate, lst_N_loc_RNA):\n",
    "        if np.mean(current_PCF[-10:]) == 0:\n",
    "            continue\n",
    "        lst_PCF_per_cell_norm.append(current_PCF / np.mean(current_PCF[-10:]))\n",
    "        lst_N_locations.append(a + b)\n",
    "\n",
    "    weighted_mean, weighted_sem, weighted_std = weighted_stats(\n",
    "        lst_PCF_per_cell_norm, lst_N_locations\n",
    "    )\n",
    "    lst_mean.append(weighted_mean[0])\n",
    "    lst_sem.append(weighted_sem[0])\n",
    "\n"
   ]
  },
  {
   "cell_type": "code",
   "execution_count": 19,
   "metadata": {},
   "outputs": [
    {
     "data": {
      "image/png": "[encoded data removed]",
      "text/plain": [
       "<Figure size 400x400 with 1 Axes>"
      ]
     },
     "metadata": {},
     "output_type": "display_data"
    }
   ],
   "source": [
    "plt.figure(figsize=(4, 4))\n",
    "# lines for eyes\n",
    "plt.axhline(1, c=\"gray\", ls=\"--\", lw=2)\n",
    "# plot\n",
    "for i in range(len(rna_length_kb)):\n",
    "    plt.errorbar(\n",
    "        rna_length_kb[i],\n",
    "        lst_mean[i],\n",
    "        yerr=lst_sem[i],\n",
    "        fmt=\"o\",\n",
    "        capsize=5,\n",
    "        capthick=2,\n",
    "        color=colors[i],\n",
    "    )\n",
    "# other settings\n",
    "plt.xlabel(\"RNA length, kb\", fontsize=17)\n",
    "plt.ylabel(r\"G$_{cross}$(r < 100 nm)\", fontsize=17)\n",
    "plt.gca().spines[:].set_linewidth(2)\n",
    "plt.gca().tick_params(\n",
    "    axis=\"both\",\n",
    "    which=\"major\",\n",
    "    labelsize=17,\n",
    "    direction=\"in\",\n",
    "    bottom=True,\n",
    "    left=True,\n",
    "    length=8,\n",
    "    width=2,\n",
    ")\n",
    "plt.gca().tick_params(\n",
    "    axis=\"x\",\n",
    "    which=\"minor\",\n",
    "    direction=\"in\",\n",
    "    bottom=True,\n",
    "    length=5,\n",
    "    width=1,\n",
    ")\n",
    "plt.xscale(\"log\")\n",
    "plt.xlim(0.4, 30)\n",
    "plt.savefig(\n",
    "    \"doterrorplot_PCF_vs_RNAlength.png\",\n",
    "    format=\"png\",\n",
    "    bbox_inches=\"tight\",\n",
    "    dpi=300,\n",
    ")"
   ]
  },
  {
   "cell_type": "code",
   "execution_count": null,
   "metadata": {},
   "outputs": [],
   "source": []
  }
 ],
 "metadata": {
  "kernelspec": {
   "display_name": "spt",
   "language": "python",
   "name": "python3"
  },
  "language_info": {
   "codemirror_mode": {
    "name": "ipython",
    "version": 3
   },
   "file_extension": ".py",
   "mimetype": "text/x-python",
   "name": "python",
   "nbconvert_exporter": "python",
   "pygments_lexer": "ipython3",
   "version": "3.9.16"
  }
 },
 "nbformat": 4,
 "nbformat_minor": 2
}
